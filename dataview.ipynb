{
 "cells": [
  {
   "cell_type": "code",
   "execution_count": null,
   "id": "fc45985b",
   "metadata": {},
   "outputs": [],
   "source": [
    "import pandas as pd\n",
    "pd.set_option('display.max_columns', None)\n",
    "import sqlite3\n"
   ]
  },
  {
   "cell_type": "code",
   "execution_count": null,
   "id": "5ad87c27",
   "metadata": {},
   "outputs": [],
   "source": [
    "data = pd.read_html(\"foggia_2024.html\", encoding=\"utf-8\", decimal=\".\")\n",
    "data = data[0]"
   ]
  },
  {
   "cell_type": "code",
   "execution_count": null,
   "id": "f600cdda",
   "metadata": {},
   "outputs": [],
   "source": [
    "def load_db_sql(table_name: str = 'stats', db_name=\"fm_estatistica.db\") -> pd.DataFrame:\n",
    "    \n",
    "    conn = sqlite3.connect('fm_estatistica.db')\n",
    "    \n",
    "    \n",
    "    try:\n",
    "        df = pd.read_sql(f\"SELECT * FROM {table_name}\", conn)\n",
    "        # debug_print(Fore.GREEN + f\"[INFO]: df carregada com sucesso.\" + Style.RESET_ALL)\n",
    "        \n",
    "        try:\n",
    "            df['posicao_analise'] = df['posicao_analise'].apply(lambda x: x.split(\".\"))\n",
    "            # debug_print(Fore.GREEN + f\"[INFO]: Coluna 'posicao_analise' convertida com sucesso.\" + Style.RESET_ALL)\n",
    "            \n",
    "        except Exception as e:\n",
    "            pass\n",
    "            # debug_print(Fore.RED + f\"[ERROR]: Erro ao converter coluna 'posicao_analise': {str(e)}\" + Style.RESET_ALL)\n",
    "        \n",
    "        return df\n",
    "    \n",
    "    except Exception as e:\n",
    "        # debug_print(Fore.RED + f\"[ERROR]: Erro ao carregar df: {str(e)}\" + Style.RESET_ALL)\n",
    "        \n",
    "        return pd.DataFrame()"
   ]
  },
  {
   "cell_type": "code",
   "execution_count": null,
   "id": "a0892637",
   "metadata": {},
   "outputs": [],
   "source": [
    "df_proc = load_db_sql()"
   ]
  },
  {
   "cell_type": "code",
   "execution_count": null,
   "id": "8c7c1436",
   "metadata": {},
   "outputs": [],
   "source": [
    "df_proc.to_excel(excel_writer=\"data.xlsx\",index=False)"
   ]
  },
  {
   "cell_type": "code",
   "execution_count": null,
   "id": "b2c4b6a3",
   "metadata": {},
   "outputs": [],
   "source": [
    "df_goleadores = df_proc[df_proc['gols'] >= 15]"
   ]
  },
  {
   "cell_type": "code",
   "execution_count": null,
   "id": "e53f0f9a",
   "metadata": {},
   "outputs": [],
   "source": [
    "colunas = [\n",
    "    'nome',\n",
    "    'clube_atual',\n",
    "    'gols_esperados_sem_penaltis_p90',\n",
    "    'gols_sem_penaltis_p90',\n",
    "    'gols_esperados_sem_penalti_por_chutes_sem_penalti',\n",
    "    'chutes_sem_penaltis_p90',\n",
    "    'chutes_no_gol_sem_penalti_p90',\n",
    "    'perigo_das_finalizacoes'\n",
    "    ]\n",
    "\n",
    "colunas_rename = {\n",
    "    'gols_sem_penaltis_p90':'npg',\n",
    "    'gols_esperados_sem_penaltis_p90':'xnpg',\n",
    "    'gols_esperados_sem_penalti_por_chutes_sem_penalti':'xnpg_per_shot',\n",
    "    'chutes_sem_penaltis_p90':'np_sht_p90',\n",
    "    'chutes_no_gol_sem_penalti_p90':'np_shtG_p90',\n",
    "    }"
   ]
  },
  {
   "cell_type": "code",
   "execution_count": null,
   "id": "896961e2",
   "metadata": {},
   "outputs": [],
   "source": [
    "df_goleadores[colunas].sort_values(by='gols_sem_penaltis_p90', ascending=False).rename(columns=colunas_rename)"
   ]
  },
  {
   "cell_type": "code",
   "execution_count": null,
   "id": "1cc3ea8c",
   "metadata": {},
   "outputs": [],
   "source": [
    "import re\n",
    "def _get_season(path:str) -> int:\n",
    "    \n",
    "    pattern = r'^(?P<nome>.+_*)(?P<season>[0-9]{4})(?P<ext>.{1}[a-zA-Z0-9]+)'\n",
    "    season = re.search(pattern, path).group('season')\n",
    "    \n",
    "    return int(season)"
   ]
  },
  {
   "cell_type": "code",
   "execution_count": null,
   "id": "e845b6bd",
   "metadata": {},
   "outputs": [],
   "source": [
    "\n",
    "path = 'Italia_254024.html'\n",
    "\n",
    "_get_season(path)"
   ]
  },
  {
   "cell_type": "code",
   "execution_count": null,
   "id": "514a65b6",
   "metadata": {},
   "outputs": [],
   "source": [
    "import pandas as pd\n",
    "\n",
    "data = pd.read_html('italia_2024.html', encoding=\"utf-8\", decimal=\".\")\n",
    "df = pd.DataFrame(data[0])"
   ]
  },
  {
   "cell_type": "code",
   "execution_count": null,
   "id": "4daa3a74",
   "metadata": {},
   "outputs": [],
   "source": [
    "df"
   ]
  },
  {
   "cell_type": "code",
   "execution_count": null,
   "id": "9a1b7511",
   "metadata": {},
   "outputs": [],
   "source": [
    "from data_manipulation import*\n",
    "from data_preprocessing import*\n",
    "import pandas as pd\n",
    "pd.set_option('display.max_columns', None)\n",
    "pd.set_option('display.max_rows', None)\n",
    "\n",
    "_df = fm_create_dataframe(path='teste_2024.html')"
   ]
  },
  {
   "cell_type": "code",
   "execution_count": null,
   "id": "4d2bc4d6",
   "metadata": {},
   "outputs": [],
   "source": []
  },
  {
   "cell_type": "code",
   "execution_count": null,
   "id": "25338042",
   "metadata": {},
   "outputs": [],
   "source": [
    "_df['np_chutes_gol_p90'].where(_df['divisao'].str.contains('Serie C NOW Girone',case=False,na=False)).describe()"
   ]
  },
  {
   "cell_type": "code",
   "execution_count": null,
   "id": "1e971312",
   "metadata": {},
   "outputs": [],
   "source": [
    "_df[['nome','idade','posicao_analise','divisao','aval_fin','npxG_p90','npG_p90','npxG_per_np_chute']].where(_df['divisao'].str.contains('Serie C NOW Girone',case=False,na=False)).sort_values(by=['aval_fin'],ascending=False)"
   ]
  },
  {
   "cell_type": "code",
   "execution_count": null,
   "id": "5b0a6d1c",
   "metadata": {},
   "outputs": [],
   "source": [
    "from fm_analycts_parametrs import DEF_STATS\n",
    "ordem = ['nome', 'clube','divisao','posicao_analise','idade','minutos'] + DEF_STATS\n",
    "_df = _df[ordem].sort_values(by=['aval_def'],ascending=False)"
   ]
  },
  {
   "cell_type": "code",
   "execution_count": null,
   "id": "cb09fa2f",
   "metadata": {},
   "outputs": [],
   "source": [
    "_df['divisao'].unique().tolist()"
   ]
  },
  {
   "cell_type": "code",
   "execution_count": null,
   "id": "3583a55f",
   "metadata": {},
   "outputs": [],
   "source": [
    "div_med = _df.groupby('divisao')['aval_def'].mean()\n",
    "div_desv = _df.groupby('divisao')['aval_def'].std()"
   ]
  },
  {
   "cell_type": "code",
   "execution_count": null,
   "id": "7c7f57ad",
   "metadata": {},
   "outputs": [],
   "source": [
    "_df_zagueiros = _df.copy()\n",
    "_df_zagueiros = _df_zagueiros[_df['posicao_analise'].apply(lambda x: 'Zagueiro' in x)]"
   ]
  },
  {
   "cell_type": "code",
   "execution_count": null,
   "id": "87bb052c",
   "metadata": {},
   "outputs": [],
   "source": [
    "_df_zagueiros = _df.copy()\n",
    "_df_zagueiros = _df_zagueiros[_df['posicao_analise'].apply(lambda x: 'Zagueiro' in x)]\n",
    "\n",
    "_df_zagueiros['aval_def_adj'] = _df_zagueiros.groupby('divisao')['aval_def'].transform(lambda x: (x - x.mean()) / x.std())\n",
    "_df_zagueiros['rtg_adef_adj'] = _df_zagueiros.groupby('divisao')['rtg_adef'].transform(lambda x: (x - x.mean()) / x.std())\n",
    "_df_zagueiros['rtg_des_adj'] = _df_zagueiros.groupby('divisao')['rtg_des'].transform(lambda x: (x - x.mean()) / x.std())\n",
    "_df_zagueiros['rtg_duel_adj'] = _df_zagueiros.groupby('divisao')['rtg_duel'].transform(lambda x: (x - x.mean()) / x.std())\n",
    "_df_zagueiros['rtg_jg_ar_adj'] = _df_zagueiros.groupby('divisao')['rtg_jg_ar'].transform(lambda x: (x - x.mean()) / x.std())\n",
    "\n",
    "_df_zagueiros['aval_def_adj1'] = np.nan\n",
    "    \n",
    "p1 = 0.20\n",
    "p2 = 0.15\n",
    "p3 = 0.15\n",
    "p4 = 0.25\n",
    "p5 = 0.25\n",
    "    \n",
    "_df_zagueiros['aval_def_adj1'] = (((     (_df_zagueiros['rtg_jg_ar_adj']*_df_zagueiros['jg_ar_t_p90']*p1) +\n",
    "                                        _df_zagueiros['rtg_duel_adj']*p2 + \n",
    "                                        (_df_zagueiros['rtg_des_adj']*_df_zagueiros['des_t_p90'])*p3 + \n",
    "                                        (_df_zagueiros['poss_g_p90']/_df_zagueiros['adef_t_p90'])*p4+\n",
    "                                        _df_zagueiros['rtg_adef_adj']*p5\n",
    "                                        ))).round(2)\n",
    "    \n",
    "_df_zagueiros['aval_def_adj1'] = _df_zagueiros['aval_def_adj1'].replace([np.inf,-np.inf ], np.nan)\n",
    "_df_zagueiros['aval_def_adj2'] = (_df_zagueiros['aval_def_adj1'] / 4).replace([np.inf,-np.inf ], np.nan)\n",
    "\n",
    "print(_df_zagueiros.groupby('divisao')['rtg_adef'].mean())\n",
    "print(_df_zagueiros.groupby('divisao')['rtg_adef'].std())\n",
    "\n",
    "_df_zagueiros[['nome','clube','divisao','posicao_analise','aval_def', 'aval_def_adj']].sort_values(by=['aval_def_adj'],ascending=False)\n",
    "\n",
    "_df_zagueiros[(_df_zagueiros['divisao'].str.contains('Serie C NOW')) & (_df_zagueiros['minutos'] >= 900) & (_df_zagueiros['posicao_analise'].apply(lambda x: 'Zagueiro' in x))][[\n",
    "                                        'nome',\n",
    "                                        'clube',\n",
    "                                        'divisao',\n",
    "                                        'minutos',\n",
    "                                        'posicao_analise',\n",
    "                                      'aval_def', \n",
    "                                      'aval_def_adj',\n",
    "                                      'aval_def_adj1',\n",
    "                                      'aval_def_adj2',\n",
    "                                      'rtg_adef',\n",
    "                                      'rtg_adef_adj',\n",
    "                                      'rtg_des',\n",
    "                                      'rtg_des_adj',\n",
    "                                      'rtg_duel',\n",
    "                                      'rtg_duel_adj',\n",
    "                                      'rtg_jg_ar',\n",
    "                                      'rtg_jg_ar_adj']].sort_values(by=['aval_def'],ascending=False)"
   ]
  },
  {
   "cell_type": "code",
   "execution_count": null,
   "id": "bf05660c",
   "metadata": {},
   "outputs": [],
   "source": [
    "_df['aval_def_adj'] = _df.groupby('divisao')['aval_def'].transform(lambda x: (x - x.mean()) / x.std())\n",
    "_df['rtg_adef_adj'] = _df.groupby('divisao')['rtg_adef'].transform(lambda x: (x - x.mean()) / x.std())\n",
    "_df['rtg_des_adj'] = _df.groupby('divisao')['rtg_des'].transform(lambda x: (x - x.mean()) / x.std())\n",
    "_df['rtg_duel_adj'] = _df.groupby('divisao')['rtg_duel'].transform(lambda x: (x - x.mean()) / x.std())\n",
    "_df['rtg_jg_ar_adj'] = _df.groupby('divisao')['rtg_jg_ar'].transform(lambda x: (x - x.mean()) / x.std())"
   ]
  },
  {
   "cell_type": "code",
   "execution_count": null,
   "id": "4ec66133",
   "metadata": {},
   "outputs": [],
   "source": [
    "_df['aval_def_adj1'] = np.nan\n",
    "    \n",
    "p1 = 0.20\n",
    "p2 = 0.15\n",
    "p3 = 0.15\n",
    "p4 = 0.25\n",
    "p5 = 0.25\n",
    "    \n",
    "_df['aval_def_adj1'] = (((     (_df['rtg_jg_ar_adj']*_df['jg_ar_t_p90']*p1) +\n",
    "                                        _df['rtg_duel_adj']*p2 + \n",
    "                                        (_df['rtg_des_adj']*_df['des_t_p90'])*p3 + \n",
    "                                        (_df['poss_g_p90']/_df['adef_t_p90'])*p4+\n",
    "                                        _df['rtg_adef_adj']*p5\n",
    "                                        ))).round(2)\n",
    "    \n",
    "_df['aval_def_adj1'] = _df['aval_def_adj1'].replace([np.inf,-np.inf ], np.nan)\n",
    "_df['aval_def_adj2'] = (_df['aval_def_adj1'] / 4).replace([np.inf,-np.inf ], np.nan)"
   ]
  },
  {
   "cell_type": "code",
   "execution_count": null,
   "id": "b5658051",
   "metadata": {},
   "outputs": [],
   "source": []
  },
  {
   "cell_type": "code",
   "execution_count": null,
   "id": "76d45ce9",
   "metadata": {},
   "outputs": [],
   "source": [
    "_df[['nome','clube','divisao','posicao_analise','aval_def', 'aval_def_adj']].sort_values(by=['aval_def_adj'],ascending=False)\n",
    "\n",
    "_df[(_df['divisao'] == 'Serie A TIM') & (_df['minutos'] >= 900) & (_df['posicao_analise'].apply(lambda x: 'Zagueiro' in x))][[\n",
    "                                        'nome',\n",
    "                                        'clube',\n",
    "                                        'divisao',\n",
    "                                        'posicao_analise',\n",
    "                                      'aval_def', \n",
    "                                      'aval_def_adj',\n",
    "                                      'aval_def_adj1',\n",
    "                                      'aval_def_adj2',\n",
    "                                      'rtg_adef',\n",
    "                                      'rtg_adef_adj',\n",
    "                                      'rtg_des',\n",
    "                                      'rtg_des_adj',\n",
    "                                      'rtg_duel',\n",
    "                                      'rtg_duel_adj',\n",
    "                                      'rtg_jg_ar',\n",
    "                                      'rtg_jg_ar_adj']].sort_values(by=['aval_def_adj2'],ascending=False)"
   ]
  },
  {
   "cell_type": "code",
   "execution_count": null,
   "id": "01a58427",
   "metadata": {},
   "outputs": [],
   "source": [
    "_df[ordem].sort_values(by=['aval_def'],ascending=False)"
   ]
  }
 ],
 "metadata": {
  "kernelspec": {
   "display_name": "fm_analise_de_dados",
   "language": "python",
   "name": "python3"
  },
  "language_info": {
   "codemirror_mode": {
    "name": "ipython",
    "version": 3
   },
   "file_extension": ".py",
   "mimetype": "text/x-python",
   "name": "python",
   "nbconvert_exporter": "python",
   "pygments_lexer": "ipython3",
   "version": "3.14.0"
  }
 },
 "nbformat": 4,
 "nbformat_minor": 5
}
